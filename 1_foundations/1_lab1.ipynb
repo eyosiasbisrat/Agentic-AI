{
 "cells": [
  {
   "cell_type": "markdown",
   "metadata": {},
   "source": [
    "# Welcome to the start of your adventure in Agentic AI"
   ]
  },
  {
   "cell_type": "markdown",
   "metadata": {},
   "source": [
    "<table style=\"margin: 0; text-align: left; width:100%\">\n",
    "    <tr>\n",
    "        <td style=\"width: 150px; height: 150px; vertical-align: middle;\">\n",
    "            <img src=\"../assets/stop.png\" width=\"150\" height=\"150\" style=\"display: block;\" />\n",
    "        </td>\n",
    "        <td>\n",
    "            <h2 style=\"color:#ff7800;\">Are you ready for action??</h2>\n",
    "            <span style=\"color:#ff7800;\">Have you completed all the setup steps in the <a href=\"../setup/\">setup</a> folder?<br/>\n",
    "            Have you read the <a href=\"../README.md\">README</a>? Many common questions are answered here!<br/>\n",
    "            Have you checked out the guides in the <a href=\"../guides/01_intro.ipynb\">guides</a> folder?<br/>\n",
    "            Well in that case, you're ready!!\n",
    "            </span>\n",
    "        </td>\n",
    "    </tr>\n",
    "</table>"
   ]
  },
  {
   "cell_type": "markdown",
   "metadata": {},
   "source": [
    "<table style=\"margin: 0; text-align: left; width:100%\">\n",
    "    <tr>\n",
    "        <td style=\"width: 150px; height: 150px; vertical-align: middle;\">\n",
    "            <img src=\"../assets/tools.png\" width=\"150\" height=\"150\" style=\"display: block;\" />\n",
    "        </td>\n",
    "        <td>\n",
    "            <h2 style=\"color:#00bfff;\">This code is a live resource - keep an eye out for my updates</h2>\n",
    "            <span style=\"color:#00bfff;\">I push updates regularly. As people ask questions or have problems, I add more examples and improve explanations. As a result, the code below might not be identical to the videos, as I've added more steps and better comments. Consider this like an interactive book that accompanies the lectures.<br/><br/>\n",
    "            I try to send emails regularly with important updates related to the course. You can find this in the 'Announcements' section of Udemy in the left sidebar. You can also choose to receive my emails via your Notification Settings in Udemy. I'm respectful of your inbox and always try to add value with my emails!\n",
    "            </span>\n",
    "        </td>\n",
    "    </tr>\n",
    "</table>"
   ]
  },
  {
   "cell_type": "markdown",
   "metadata": {},
   "source": [
    "### And please do remember to contact me if I can help\n",
    "\n",
    "And I love to connect: https://www.linkedin.com/in/eddonner/\n",
    "\n",
    "\n",
    "### New to Notebooks like this one? Head over to the guides folder!\n",
    "\n",
    "Just to check you've already added the Python and Jupyter extensions to Cursor, if not already installed:\n",
    "- Open extensions (View >> extensions)\n",
    "- Search for python, and when the results show, click on the ms-python one, and Install it if not already installed\n",
    "- Search for jupyter, and when the results show, click on the Microsoft one, and Install it if not already installed  \n",
    "Then View >> Explorer to bring back the File Explorer.\n",
    "\n",
    "And then:\n",
    "1. Click where it says \"Select Kernel\" near the top right, and select the option called `.venv (Python 3.12.9)` or similar, which should be the first choice or the most prominent choice. You may need to choose \"Python Environments\" first.\n",
    "2. Click in each \"cell\" below, starting with the cell immediately below this text, and press Shift+Enter to run\n",
    "3. Enjoy!\n",
    "\n",
    "After you click \"Select Kernel\", if there is no option like `.venv (Python 3.12.9)` then please do the following:  \n",
    "1. On Mac: From the Cursor menu, choose Settings >> VS Code Settings (NOTE: be sure to select `VSCode Settings` not `Cursor Settings`);  \n",
    "On Windows PC: From the File menu, choose Preferences >> VS Code Settings(NOTE: be sure to select `VSCode Settings` not `Cursor Settings`)  \n",
    "2. In the Settings search bar, type \"venv\"  \n",
    "3. In the field \"Path to folder with a list of Virtual Environments\" put the path to the project root, like C:\\Users\\username\\projects\\agents (on a Windows PC) or /Users/username/projects/agents (on Mac or Linux).  \n",
    "And then try again.\n",
    "\n",
    "Having problems with missing Python versions in that list? Have you ever used Anaconda before? It might be interferring. Quit Cursor, bring up a new command line, and make sure that your Anaconda environment is deactivated:    \n",
    "`conda deactivate`  \n",
    "And if you still have any problems with conda and python versions, it's possible that you will need to run this too:  \n",
    "`conda config --set auto_activate_base false`  \n",
    "and then from within the Agents directory, you should be able to run `uv python list` and see the Python 3.12 version."
   ]
  },
  {
   "cell_type": "code",
   "execution_count": 34,
   "metadata": {},
   "outputs": [],
   "source": [
    "# First let's do an import. If you get an Import Error, double check that your Kernel is correct..\n",
    "\n",
    "from dotenv import load_dotenv\n"
   ]
  },
  {
   "cell_type": "code",
   "execution_count": 35,
   "metadata": {},
   "outputs": [
    {
     "data": {
      "text/plain": [
       "True"
      ]
     },
     "execution_count": 35,
     "metadata": {},
     "output_type": "execute_result"
    }
   ],
   "source": [
    "# Next it's time to load the API keys into environment variables\n",
    "# If this returns false, see the next cell!\n",
    "\n",
    "load_dotenv(override=True)"
   ]
  },
  {
   "cell_type": "markdown",
   "metadata": {},
   "source": [
    "### Wait, did that just output `False`??\n",
    "\n",
    "If so, the most common reason is that you didn't save your `.env` file after adding the key! Be sure to have saved.\n",
    "\n",
    "Also, make sure the `.env` file is named precisely `.env` and is in the project root directory (`agents`)\n",
    "\n",
    "By the way, your `.env` file should have a stop symbol next to it in Cursor on the left, and that's actually a good thing: that's Cursor saying to you, \"hey, I realize this is a file filled with secret information, and I'm not going to send it to an external AI to suggest changes, because your keys should not be shown to anyone else.\""
   ]
  },
  {
   "cell_type": "markdown",
   "metadata": {},
   "source": [
    "<table style=\"margin: 0; text-align: left; width:100%\">\n",
    "    <tr>\n",
    "        <td style=\"width: 150px; height: 150px; vertical-align: middle;\">\n",
    "            <img src=\"../assets/stop.png\" width=\"150\" height=\"150\" style=\"display: block;\" />\n",
    "        </td>\n",
    "        <td>\n",
    "            <h2 style=\"color:#ff7800;\">Final reminders</h2>\n",
    "            <span style=\"color:#ff7800;\">1. If you're not confident about Environment Variables or Web Endpoints / APIs, please read Topics 3 and 5 in this <a href=\"../guides/04_technical_foundations.ipynb\">technical foundations guide</a>.<br/>\n",
    "            2. If you want to use AIs other than OpenAI, like Gemini, DeepSeek or Ollama (free), please see the first section in this <a href=\"../guides/09_ai_apis_and_ollama.ipynb\">AI APIs guide</a>.<br/>\n",
    "            3. If you ever get a Name Error in Python, you can always fix it immediately; see the last section of this <a href=\"../guides/06_python_foundations.ipynb\">Python Foundations guide</a> and follow both tutorials and exercises.<br/>\n",
    "            </span>\n",
    "        </td>\n",
    "    </tr>\n",
    "</table>"
   ]
  },
  {
   "cell_type": "code",
   "execution_count": 36,
   "metadata": {},
   "outputs": [
    {
     "name": "stdout",
     "output_type": "stream",
     "text": [
      "OpenAI API Key exists and begins sk-proj-\n"
     ]
    }
   ],
   "source": [
    "# Check the key - if you're not using OpenAI, check whichever key you're using! Ollama doesn't need a key.\n",
    "\n",
    "import os\n",
    "openai_api_key = os.getenv('OPENAI_API_KEY')\n",
    "\n",
    "if openai_api_key:\n",
    "    print(f\"OpenAI API Key exists and begins {openai_api_key[:8]}\")\n",
    "else:\n",
    "    print(\"OpenAI API Key not set - please head to the troubleshooting guide in the setup folder\")\n",
    "    \n"
   ]
  },
  {
   "cell_type": "code",
   "execution_count": 37,
   "metadata": {},
   "outputs": [],
   "source": [
    "# And now - the all important import statement\n",
    "# If you get an import error - head over to troubleshooting in the Setup folder\n",
    "# Even for other LLM providers like Gemini, you still use this OpenAI import - see Guide 9 for why\n",
    "\n",
    "from openai import OpenAI"
   ]
  },
  {
   "cell_type": "code",
   "execution_count": 38,
   "metadata": {},
   "outputs": [],
   "source": [
    "# And now we'll create an instance of the OpenAI class\n",
    "# If you're not sure what it means to create an instance of a class - head over to the guides folder (guide 6)!\n",
    "# If you get a NameError - head over to the guides folder (guide 6)to learn about NameErrors - always instantly fixable\n",
    "# If you're not using OpenAI, you just need to slightly modify this - precise instructions are in the AI APIs guide (guide 9)\n",
    "\n",
    "openai = OpenAI()"
   ]
  },
  {
   "cell_type": "code",
   "execution_count": 39,
   "metadata": {},
   "outputs": [],
   "source": [
    "# Create a list of messages in the familiar OpenAI format\n",
    "\n",
    "messages = [{\"role\": \"user\", \"content\": \"What is 2+2?\"}]"
   ]
  },
  {
   "cell_type": "code",
   "execution_count": 40,
   "metadata": {},
   "outputs": [
    {
     "name": "stdout",
     "output_type": "stream",
     "text": [
      "2 + 2 equals 4.\n"
     ]
    }
   ],
   "source": [
    "# And now call it! Any problems, head to the troubleshooting guide\n",
    "# This uses GPT 4.1 nano, the incredibly cheap model\n",
    "# The APIs guide (guide 9) has exact instructions for using even cheaper or free alternatives to OpenAI\n",
    "# If you get a NameError, head to the guides folder (guide 6) to learn about NameErrors - always instantly fixable\n",
    "\n",
    "response = openai.chat.completions.create(\n",
    "    model=\"gpt-4.1-nano\",\n",
    "    messages=messages\n",
    ")\n",
    "\n",
    "print(response.choices[0].message.content)\n"
   ]
  },
  {
   "cell_type": "code",
   "execution_count": 41,
   "metadata": {},
   "outputs": [],
   "source": [
    "# And now - let's ask for a question:\n",
    "\n",
    "question = \"Please propose a hard, challenging question to assess someone's IQ. Respond only with the question.\"\n",
    "messages = [{\"role\": \"user\", \"content\": question}]\n"
   ]
  },
  {
   "cell_type": "code",
   "execution_count": 42,
   "metadata": {},
   "outputs": [
    {
     "name": "stdout",
     "output_type": "stream",
     "text": [
      "If two hourglasses measure 7 minutes and 11 minutes respectively, how can you use them to time exactly 15 minutes?\n"
     ]
    }
   ],
   "source": [
    "# ask it - this uses GPT 4.1 mini, still cheap but more powerful than nano\n",
    "\n",
    "response = openai.chat.completions.create(\n",
    "    model=\"gpt-4.1-mini\",\n",
    "    messages=messages\n",
    ")\n",
    "\n",
    "question = response.choices[0].message.content\n",
    "\n",
    "print(question)\n"
   ]
  },
  {
   "cell_type": "code",
   "execution_count": 43,
   "metadata": {},
   "outputs": [],
   "source": [
    "# form a new messages list\n",
    "messages = [{\"role\": \"user\", \"content\": question}]\n"
   ]
  },
  {
   "cell_type": "code",
   "execution_count": 44,
   "metadata": {},
   "outputs": [
    {
     "name": "stdout",
     "output_type": "stream",
     "text": [
      "You have two hourglasses:\n",
      "- One measures 7 minutes\n",
      "- The other measures 11 minutes\n",
      "\n",
      "You want to time **exactly 15 minutes** using them.\n",
      "\n",
      "---\n",
      "\n",
      "### Step-by-step solution:\n",
      "\n",
      "1. **Start both hourglasses at the same time.**  \n",
      "   - 7-minute hourglass starts flipping down from 7 to 0.\n",
      "   - 11-minute hourglass starts flipping down from 11 to 0.\n",
      "\n",
      "2. When the **7-minute hourglass runs out** (after 7 minutes), **flip it immediately** to start it again.  \n",
      "   - Time elapsed: 7 minutes  \n",
      "   - 7-minute hourglass reset and starts counting another 7 minutes  \n",
      "   - 11-minute hourglass still running (it has 4 minutes left, because 11 - 7 = 4)\n",
      "\n",
      "3. When the **11-minute hourglass runs out** (after 11 minutes total), **flip the 11-minute hourglass immediately**.  \n",
      "   - At this point, the 7-minute hourglass has been running for 4 minutes (since it was flipped at 7 minutes). So it has: 7 - 4 = 3 minutes left.\n",
      "   - Time elapsed: 11 minutes  \n",
      "   - Flip the 11-minute hourglass to start counting 11 minutes again.\n",
      "\n",
      "4. When the **7-minute hourglass runs out the second time**, it means 7 more minutes have passed since the second flip of the 7-minute hourglass at 7 minutes.  \n",
      "   - But the 7-minute hourglass was flipped at 7 minutes and it's now been running for 7 minutes, so at time 14 minutes, the 7-minute hourglass empties.\n",
      "\n",
      "5. **At 14 minutes**, the 7-minute hourglass just ran out, and the 11-minute hourglass has been running for 3 minutes (since it was flipped at 11 minutes). You want 15 minutes (1 minute after this).\n",
      "\n",
      "6. Let the **11-minute hourglass continue running for one more minute** (from 14 minutes to 15 minutes). Since the 11-minute hourglass was flipped at 11 minutes, after 4 minutes of running (3 minutes + 1 minute), it is still running.\n",
      "\n",
      "---\n",
      "\n",
      "### How do you practically **detect the 15 minutes?**\n",
      "\n",
      "- The **hourglasses give you the following markers**:\n",
      "\n",
      "| Time elapsed | Event                         |\n",
      "|--------------|-------------------------------|\n",
      "| 0 min        | Flip both hourglasses         |\n",
      "| 7 min        | 7-minute hourglass empties — flip it |\n",
      "| 11 min       | 11-minute hourglass empties — flip it |\n",
      "| 14 min       | 7-minute hourglass empties again  |\n",
      "| 15 min       | 1 minute after 7-minute empties at 14 min |\n",
      "\n",
      "---\n",
      "\n",
      "### Summary:\n",
      "\n",
      "- Start both hourglasses at the same time.\n",
      "- At 7 minutes, flip the 7-minute hourglass (it starts again).\n",
      "- At 11 minutes, flip the 11-minute hourglass.\n",
      "- When the 7-minute hourglass ends again at 14 minutes, note the time.\n",
      "- Wait until the 11-minute hourglass has been running for 4 minutes (from 11 to 15 minutes).\n",
      "- At exactly 15 minutes, stop.\n",
      "\n",
      "---\n",
      "\n",
      "### Optional: Step-by-step actions to mark 15 minutes:\n",
      "\n",
      "- Start both.\n",
      "- At 7m: flip 7-min hourglass.\n",
      "- At 11m: flip 11-min hourglass.\n",
      "- At 14m (7-min out again): start counting 1 minute more.\n",
      "- After 1 minute (at 15m), mark time.\n",
      "\n",
      "---\n",
      "\n",
      "### Alternate method for exact measurement:\n",
      "\n",
      "If you want a method where you can detect \"15 minutes\" **exactly at the moment**, consider the following:\n",
      "\n",
      "- Start both hourglasses.\n",
      "- When the **7-minute hourglass runs out (7 minutes), flip it immediately.**\n",
      "- When the **11-minute hourglass runs out (11 minutes), flip it immediately.**\n",
      "- When the **7-minute hourglass runs out again (14 minutes), flip it immediately.**\n",
      "- When the **11-minute hourglass runs out after its second flip (22 minutes), flip it immediately.**\n",
      "- The difference between these flip times can help you mark smaller intervals.\n",
      "\n",
      "But for the 15 minutes using only two hourglasses 7 and 11 minutes, the first approach is simplest.\n",
      "\n",
      "---\n",
      "\n",
      "**Therefore, the main idea is:**\n",
      "\n",
      "**You can measure 15 minutes by starting both hourglasses simultaneously, flipping the 7-minute hourglass at 7 minutes, flipping the 11-minute hourglass at 11 minutes, and then stopping at 15 minutes (which is 1 minute after the 7-minute hourglass runs out the second time at 14 minutes).**\n",
      "\n",
      "---\n",
      "\n",
      "Let me know if you'd like me to provide a more precise procedure or timing with flips!\n"
     ]
    }
   ],
   "source": [
    "# Ask it again\n",
    "\n",
    "response = openai.chat.completions.create(\n",
    "    model=\"gpt-4.1-mini\",\n",
    "    messages=messages\n",
    ")\n",
    "\n",
    "answer = response.choices[0].message.content\n",
    "print(answer)\n"
   ]
  },
  {
   "cell_type": "code",
   "execution_count": 45,
   "metadata": {},
   "outputs": [
    {
     "data": {
      "text/markdown": [
       "You have two hourglasses:\n",
       "- One measures 7 minutes\n",
       "- The other measures 11 minutes\n",
       "\n",
       "You want to time **exactly 15 minutes** using them.\n",
       "\n",
       "---\n",
       "\n",
       "### Step-by-step solution:\n",
       "\n",
       "1. **Start both hourglasses at the same time.**  \n",
       "   - 7-minute hourglass starts flipping down from 7 to 0.\n",
       "   - 11-minute hourglass starts flipping down from 11 to 0.\n",
       "\n",
       "2. When the **7-minute hourglass runs out** (after 7 minutes), **flip it immediately** to start it again.  \n",
       "   - Time elapsed: 7 minutes  \n",
       "   - 7-minute hourglass reset and starts counting another 7 minutes  \n",
       "   - 11-minute hourglass still running (it has 4 minutes left, because 11 - 7 = 4)\n",
       "\n",
       "3. When the **11-minute hourglass runs out** (after 11 minutes total), **flip the 11-minute hourglass immediately**.  \n",
       "   - At this point, the 7-minute hourglass has been running for 4 minutes (since it was flipped at 7 minutes). So it has: 7 - 4 = 3 minutes left.\n",
       "   - Time elapsed: 11 minutes  \n",
       "   - Flip the 11-minute hourglass to start counting 11 minutes again.\n",
       "\n",
       "4. When the **7-minute hourglass runs out the second time**, it means 7 more minutes have passed since the second flip of the 7-minute hourglass at 7 minutes.  \n",
       "   - But the 7-minute hourglass was flipped at 7 minutes and it's now been running for 7 minutes, so at time 14 minutes, the 7-minute hourglass empties.\n",
       "\n",
       "5. **At 14 minutes**, the 7-minute hourglass just ran out, and the 11-minute hourglass has been running for 3 minutes (since it was flipped at 11 minutes). You want 15 minutes (1 minute after this).\n",
       "\n",
       "6. Let the **11-minute hourglass continue running for one more minute** (from 14 minutes to 15 minutes). Since the 11-minute hourglass was flipped at 11 minutes, after 4 minutes of running (3 minutes + 1 minute), it is still running.\n",
       "\n",
       "---\n",
       "\n",
       "### How do you practically **detect the 15 minutes?**\n",
       "\n",
       "- The **hourglasses give you the following markers**:\n",
       "\n",
       "| Time elapsed | Event                         |\n",
       "|--------------|-------------------------------|\n",
       "| 0 min        | Flip both hourglasses         |\n",
       "| 7 min        | 7-minute hourglass empties — flip it |\n",
       "| 11 min       | 11-minute hourglass empties — flip it |\n",
       "| 14 min       | 7-minute hourglass empties again  |\n",
       "| 15 min       | 1 minute after 7-minute empties at 14 min |\n",
       "\n",
       "---\n",
       "\n",
       "### Summary:\n",
       "\n",
       "- Start both hourglasses at the same time.\n",
       "- At 7 minutes, flip the 7-minute hourglass (it starts again).\n",
       "- At 11 minutes, flip the 11-minute hourglass.\n",
       "- When the 7-minute hourglass ends again at 14 minutes, note the time.\n",
       "- Wait until the 11-minute hourglass has been running for 4 minutes (from 11 to 15 minutes).\n",
       "- At exactly 15 minutes, stop.\n",
       "\n",
       "---\n",
       "\n",
       "### Optional: Step-by-step actions to mark 15 minutes:\n",
       "\n",
       "- Start both.\n",
       "- At 7m: flip 7-min hourglass.\n",
       "- At 11m: flip 11-min hourglass.\n",
       "- At 14m (7-min out again): start counting 1 minute more.\n",
       "- After 1 minute (at 15m), mark time.\n",
       "\n",
       "---\n",
       "\n",
       "### Alternate method for exact measurement:\n",
       "\n",
       "If you want a method where you can detect \"15 minutes\" **exactly at the moment**, consider the following:\n",
       "\n",
       "- Start both hourglasses.\n",
       "- When the **7-minute hourglass runs out (7 minutes), flip it immediately.**\n",
       "- When the **11-minute hourglass runs out (11 minutes), flip it immediately.**\n",
       "- When the **7-minute hourglass runs out again (14 minutes), flip it immediately.**\n",
       "- When the **11-minute hourglass runs out after its second flip (22 minutes), flip it immediately.**\n",
       "- The difference between these flip times can help you mark smaller intervals.\n",
       "\n",
       "But for the 15 minutes using only two hourglasses 7 and 11 minutes, the first approach is simplest.\n",
       "\n",
       "---\n",
       "\n",
       "**Therefore, the main idea is:**\n",
       "\n",
       "**You can measure 15 minutes by starting both hourglasses simultaneously, flipping the 7-minute hourglass at 7 minutes, flipping the 11-minute hourglass at 11 minutes, and then stopping at 15 minutes (which is 1 minute after the 7-minute hourglass runs out the second time at 14 minutes).**\n",
       "\n",
       "---\n",
       "\n",
       "Let me know if you'd like me to provide a more precise procedure or timing with flips!"
      ],
      "text/plain": [
       "<IPython.core.display.Markdown object>"
      ]
     },
     "metadata": {},
     "output_type": "display_data"
    }
   ],
   "source": [
    "from IPython.display import Markdown, display\n",
    "\n",
    "display(Markdown(answer))\n",
    "\n"
   ]
  },
  {
   "cell_type": "markdown",
   "metadata": {},
   "source": [
    "# Congratulations!\n",
    "\n",
    "That was a small, simple step in the direction of Agentic AI, with your new environment!\n",
    "\n",
    "Next time things get more interesting..."
   ]
  },
  {
   "cell_type": "markdown",
   "metadata": {},
   "source": [
    "<table style=\"margin: 0; text-align: left; width:100%\">\n",
    "    <tr>\n",
    "        <td style=\"width: 150px; height: 150px; vertical-align: middle;\">\n",
    "            <img src=\"../assets/exercise.png\" width=\"150\" height=\"150\" style=\"display: block;\" />\n",
    "        </td>\n",
    "        <td>\n",
    "            <h2 style=\"color:#ff7800;\">Exercise</h2>\n",
    "            <span style=\"color:#ff7800;\">Now try this commercial application:<br/>\n",
    "            First ask the LLM to pick a business area that might be worth exploring for an Agentic AI opportunity.<br/>\n",
    "            Then ask the LLM to present a pain-point in that industry - something challenging that might be ripe for an Agentic solution.<br/>\n",
    "            Finally have 3 third LLM call propose the Agentic AI solution. <br/>\n",
    "            We will cover this at up-coming labs, so don't worry if you're unsure.. just give it a try!\n",
    "            </span>\n",
    "        </td>\n",
    "    </tr>\n",
    "</table>"
   ]
  },
  {
   "cell_type": "code",
   "execution_count": 46,
   "metadata": {},
   "outputs": [
    {
     "data": {
      "text/markdown": [
       "One promising business area for exploring an Agentic AI opportunity is **Supply Chain and Logistics Optimization**.\n",
       "\n",
       "### Why Supply Chain and Logistics?\n",
       "\n",
       "1. **Complex Decision-Making:** Supply chains involve numerous interconnected processes—inventory management, demand forecasting, routing, supplier coordination—that require real-time, adaptive decision-making under uncertainty. Agentic AI can autonomously monitor, analyze, and optimize these processes dynamically.\n",
       "\n",
       "2. **High Impact and Cost Savings:** Improving efficiency in logistics reduces costs significantly, from lowering fuel consumption to minimizing delays and stockouts, directly impacting profitability.\n",
       "\n",
       "3. **Data-Rich Environment:** The sector generates vast amounts of data (sensor readings, shipping statuses, weather conditions, market trends), which Agentic AI can leverage to learn and improve over time.\n",
       "\n",
       "4. **Automation Potential:** Agentic AI agents can proactively manage tasks such as scheduling shipments, negotiating with suppliers, rerouting deliveries, or even managing warehouse operations without constant human intervention.\n",
       "\n",
       "5. **Resilience and Adaptability:** In the face of disruptions (e.g., natural disasters, geopolitical events), agentic systems can adapt plans swiftly, maintaining service continuity.\n",
       "\n",
       "### Possible Agentic AI Applications in This Area:\n",
       "\n",
       "- Autonomous multi-agent systems coordinating shipments across global networks.\n",
       "- Real-time supply chain risk assessment and mitigation strategies.\n",
       "- Dynamic pricing and procurement negotiation agents.\n",
       "- Inventory agents that autonomously reorder stock based on predicted demand and supplier conditions.\n",
       "\n",
       "Exploring Agentic AI in supply chain and logistics could unlock substantial efficiencies and competitive advantages. Would you like me to dive deeper into a specific subdomain or propose an initial development roadmap?"
      ],
      "text/plain": [
       "<IPython.core.display.Markdown object>"
      ]
     },
     "metadata": {},
     "output_type": "display_data"
    }
   ],
   "source": [
    "# First create the messages:\n",
    "\n",
    "question = \"please pick a business area that might be worth exploring for an Agentic AI opportunity\"\n",
    "messages = [{\"role\": \"user\", \"content\": question}]\n",
    "\n",
    "# Then make the first call:\n",
    "\n",
    "response = openai.chat.completions.create(\n",
    "    model=\"gpt-4.1-mini\",\n",
    "    messages=messages\n",
    ")\n",
    "\n",
    "# Then read the business idea:\n",
    "\n",
    "business_idea = response.choices[0].message.content\n",
    "\n",
    "# And repeat! In the next message, include the business idea within the message\n",
    "\n",
    "display(Markdown(business_idea))"
   ]
  },
  {
   "cell_type": "code",
   "execution_count": null,
   "metadata": {},
   "outputs": [],
   "source": []
  },
  {
   "cell_type": "markdown",
   "metadata": {},
   "source": []
  },
  {
   "cell_type": "code",
   "execution_count": 47,
   "metadata": {},
   "outputs": [
    {
     "data": {
      "text/markdown": [
       "A significant pain point in the Supply Chain and Logistics Optimization industry is **real-time disruption management and dynamic rerouting under uncertainty**.\n",
       "\n",
       "### Context:\n",
       "Supply chains today are highly complex and globally interconnected, involving multiple stakeholders, transportation modes, and regulatory environments. Unexpected events—such as natural disasters, geopolitical tensions, sudden demand spikes, equipment failures, or port congestions—can cause significant disruptions. Traditional optimization models often rely on static data or periodic updates, making them insufficiently responsive to real-time changes.\n",
       "\n",
       "### The Challenge:\n",
       "- **Data Deluge and Fragmentation:** Real-time data streams come from diverse sources (IoT sensors, GPS trackers, weather forecasts, social media, shipment status, customs updates), often fragmented across silos.\n",
       "- **Uncertainty and Complexity:** The unpredictable nature of disruptions requires rapid assessments of multiple interdependent variables and possible scenarios.\n",
       "- **Reactive vs. Proactive:** Current systems are mostly reactive, with manual or semi-automated interventions that can lag behind real-time events.\n",
       "- **Scale and Speed:** The solution needs to process massive data in real time and recommend actionable adjustments instantly—rerouting shipments, reassigning carriers, adjusting inventory buffers—with minimal disruption downstream.\n",
       "\n",
       "### Why an Agentic Solution Is Ripe Here:\n",
       "An autonomous or agentic system, empowered by AI and multi-agent coordination, could continuously monitor and interpret disparate data streams, autonomously assess risk scenarios, and dynamically optimize routing and resource allocation. Such an agent could:\n",
       "\n",
       "- Act proactively, anticipating cascading effects of a disruption hours or days in advance.\n",
       "- Coordinate across multiple stakeholders to enforce optimized decisions in real time.\n",
       "- Learn from past disruptions to improve future responsiveness and robustness.\n",
       "- Balance competing objectives—cost, speed, reliability, sustainability—in a holistic manner.\n",
       "\n",
       "**In summary:** The fundamental challenge of real-time supply chain disruption management and dynamic rerouting amid uncertainty remains poorly solved and is a prime domain for intelligent, agentic systems that operate autonomously, swiftly, and adaptively."
      ],
      "text/plain": [
       "<IPython.core.display.Markdown object>"
      ]
     },
     "metadata": {},
     "output_type": "display_data"
    }
   ],
   "source": [
    "question = \"please present a pain-point in the Supply Chain and Logistics Optimization industry - something challenging that might be ripe for an Agentic solution\"\n",
    "messages = [{\"role\": \"user\", \"content\": question}]\n",
    "\n",
    "# Then make the first call:\n",
    "\n",
    "response = openai.chat.completions.create(\n",
    "    model=\"gpt-4.1-mini\",\n",
    "    messages=messages\n",
    ")\n",
    "\n",
    "# Then read the business idea:\n",
    "\n",
    "pain_point= response.choices[0].message.content\n",
    "\n",
    "# And repeat! In the next message, include the business idea within the message\n",
    "\n",
    "display(Markdown(pain_point))"
   ]
  },
  {
   "cell_type": "code",
   "execution_count": 48,
   "metadata": {},
   "outputs": [
    {
     "data": {
      "text/markdown": [
       "Certainly! Here’s a detailed **Agentic AI solution proposal** tailored to real-time disruption management and dynamic rerouting under uncertainty in supply chain and logistics.\n",
       "\n",
       "---\n",
       "\n",
       "# Agentic AI Solution for Real-Time Supply Chain Disruption Management\n",
       "\n",
       "### 1. System Overview:\n",
       "\n",
       "Design a **Multi-Agent Autonomous Supply Chain Resilience System (MASCRS)** capable of continuously ingesting multi-source data, evaluating disruption scenarios probabilistically, and orchestrating coordinated responses—while learning and adapting over time.\n",
       "\n",
       "---\n",
       "\n",
       "### 2. Core Components and Agent Types:\n",
       "\n",
       "| Agent Type                      | Role                                                                                      | Key Capabilities                                                                                           |\n",
       "|--------------------------------|-------------------------------------------------------------------------------------------|------------------------------------------------------------------------------------------------------------|\n",
       "| **Data Fusion & Preprocessing Agent** | Continuously collect, reconcile, and unify fragmented data streams from IoT, sensors, social media, weather, customs, etc. | Real-time data normalization, anomaly detection, uncertainty quantification, cross-source correlation.      |\n",
       "| **Disruption Detection & Prediction Agent** | Analyze fused data to detect current disruptions and predict possible cascading effects hours/days ahead.                   | Time series forecasting, causal inference, probabilistic risk modeling, scenario generation.                |\n",
       "| **Dynamic Optimization & Rerouting Agent** | Generate real-time rerouting and resource allocation plans that balance multiple KPIs under uncertainty.                  | Stochastic optimization, reinforcement learning (RL) for policy improvement, multi-objective optimization.  |\n",
       "| **Stakeholder Coordination Agent**     | Communicate optimized decisions autonomously to carriers, warehouses, customs, and partners; negotiate and enforce compliance. | Natural language generation, event-driven orchestration, multi-agent negotiation, adaptive permissions.      |\n",
       "| **Learning and Knowledge Agent**       | Continuously learn from disruptions outcomes, system feedback, and human inputs to improve models and strategies.           | Meta-learning, reinforcement learning, causal discovery, anomaly explanation, policy refinement.             |\n",
       "| **Risk and Compliance Agent**           | Monitor regulatory changes and ensure optimized plans comply with dynamic constraints across jurisdictions.                 | Rule-based compliance checks, automated alerts, regulatory knowledge base updates.                          |\n",
       "\n",
       "---\n",
       "\n",
       "### 3. Architecture and Workflow\n",
       "\n",
       "1. **Data Ingestion Layer**  \n",
       "   - Data Fusion Agent ingests fragmented real-time data feeds and builds a unified contextual snapshot.\n",
       "\n",
       "2. **Disruption Analysis Layer**  \n",
       "   - Disruption Detection Agent assesses current state, flags incidents, and predicts impact trajectories and likelihoods.\n",
       "\n",
       "3. **Decision-Making Layer**  \n",
       "   - Dynamic Optimization Agent uses probabilistic scenarios from disruption detection to optimize rerouting, carrier assignments, and inventory decisions in a rolling horizon.  \n",
       "   - Balances KPIs such as cost, delivery speed, carbon footprint, and service reliability.\n",
       "\n",
       "4. **Execution & Coordination Layer**  \n",
       "   - Stakeholder Coordination Agent disseminates decisions, manages exceptions, and receives feedback through APIs, messaging, or smart contracts.\n",
       "\n",
       "5. **Learning Layer**  \n",
       "   - Learning Agent ingests operational outcomes and system feedback to improve disruption detection models, prediction accuracy, and optimization policies.\n",
       "\n",
       "6. **Compliance Monitoring**  \n",
       "   - Risk and Compliance Agent continuously updates constraints and alerts dynamic re-optimization if regulations or operating conditions change.\n",
       "\n",
       "---\n",
       "\n",
       "### 4. Key Innovation Highlights:\n",
       "\n",
       "- **Agentic Autonomy:** Agents operate with delegated authority for rapid decisions eliminating bottlenecks.\n",
       "- **Probabilistic Reasoning:** Uses scenario-based planning and stochastic optimization to navigate uncertainty.\n",
       "- **Multi-Stakeholder Coordination:** Autonomous negotiation and enforcement ensuring aligned objectives across partners.\n",
       "- **Continuous Learning:** Meta-learning enables adapting to novel disruptions and evolving supply chain topologies.\n",
       "- **Scalability:** Distributed computing backbone supports high volume data with low latencies.\n",
       "\n",
       "---\n",
       "\n",
       "### 5. Technology Stack Suggestions:\n",
       "\n",
       "- **Data Layer:** Apache Kafka for streaming, Apache Flink/Spark Structured Streaming for real-time processing  \n",
       "- **AI/ML:** TensorFlow/PyTorch for deep forecasting; Bayesian networks for causal modeling; RL frameworks (RLlib, Stable Baselines3) for policy optimization  \n",
       "- **Optimization:** MILP solvers (CPLEX, Gurobi), stochastic programming; multi-agent systems toolkit (JADE, SPADE)  \n",
       "- **Communication:** RESTful APIs, MQTT, blockchain/smart contracts for trusted partner interactions  \n",
       "- **Cloud & Edge:** Hybrid cloud for global scale and edge AI for localized delay-sensitive decisions  \n",
       "\n",
       "---\n",
       "\n",
       "### 6. Example Scenario:\n",
       "\n",
       "- Suddenly detected severe weather in a major port triggers disruption prediction with likely cascade to inland transport delays.  \n",
       "- Dynamic Optimization Agent reroutes shipments to an alternative port balancing delivery time impact and extra cost, dynamically reallocating carriers and adjusting inventory buffers upstream.  \n",
       "- Stakeholder Coordination Agent autonomously notifies carriers, port operators, warehouses, and customs to align schedules and facilitate smoother transfer.  \n",
       "- Learning Agent records decisions and outcomes to refine the model for future similar weather disruptions.\n",
       "\n",
       "---\n",
       "\n",
       "### 7. KPIs to Track Post-Implementation:\n",
       "\n",
       "- Average response time to disruptions  \n",
       "- Reduction in delay propagation and delivery lateness  \n",
       "- Cost savings from optimized rerouting  \n",
       "- Compliance adherence and penalty reduction  \n",
       "- Improvement in forecasting accuracy of disruptions  \n",
       "- Stakeholder satisfaction and collaboration metrics  \n",
       "\n",
       "---\n",
       "\n",
       "# Summary\n",
       "\n",
       "An Agentic Multi-Agent Autonomous Supply Chain Resilience System equipped with data fusion, predictive disruption modeling, dynamic probabilistic optimization, and autonomous stakeholder coordination—with continuous learning and regulatory compliance awareness—will elevate supply chain disruption management from reactive firefighting to proactive, intelligent, and adaptive orchestration.\n",
       "\n",
       "---\n",
       "\n",
       "If you want, I can also sketch high-level system diagrams or suggest a phased roadmap for implementation!"
      ],
      "text/plain": [
       "<IPython.core.display.Markdown object>"
      ]
     },
     "metadata": {},
     "output_type": "display_data"
    }
   ],
   "source": [
    "\n",
    "question = \"please propose an Agentic AI solution for this problem\" + pain_point\n",
    "messages = [{\"role\": \"user\", \"content\": question}]\n",
    "\n",
    "# Then make the first call:\n",
    "\n",
    "response = openai.chat.completions.create(\n",
    "    model=\"gpt-4.1-mini\",\n",
    "    messages=messages\n",
    ")\n",
    "\n",
    "# Then read the business idea:\n",
    "\n",
    "agentic_ai_solution= response.choices[0].message.content\n",
    "\n",
    "# And repeat! In the next message, include the business idea within the message\n",
    "\n",
    "display(Markdown(agentic_ai_solution))"
   ]
  }
 ],
 "metadata": {
  "kernelspec": {
   "display_name": ".venv",
   "language": "python",
   "name": "python3"
  },
  "language_info": {
   "codemirror_mode": {
    "name": "ipython",
    "version": 3
   },
   "file_extension": ".py",
   "mimetype": "text/x-python",
   "name": "python",
   "nbconvert_exporter": "python",
   "pygments_lexer": "ipython3",
   "version": "3.12.11"
  }
 },
 "nbformat": 4,
 "nbformat_minor": 2
}
